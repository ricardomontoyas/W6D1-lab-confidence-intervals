{
 "cells": [
  {
   "cell_type": "markdown",
   "metadata": {},
   "source": [
    "# Before your start:\n",
    "- Read the README.md file\n",
    "- Comment as much as you can and use the resources (README.md file)\n",
    "- Happy learning!"
   ]
  },
  {
   "cell_type": "code",
   "execution_count": 5,
   "metadata": {},
   "outputs": [],
   "source": [
    "# import numpy and pandas\n",
    "import pandas as pd\n",
    "import numpy as np\n",
    "from scipy.stats import trim_mean, mode, skew, gaussian_kde, pearsonr, spearmanr, beta\n",
    "from statsmodels.stats.weightstats import ztest as ztest\n",
    "\n",
    "from scipy.stats import ttest_ind, norm, t\n",
    "from scipy.stats import f_oneway\n",
    "from scipy.stats import sem"
   ]
  },
  {
   "cell_type": "markdown",
   "metadata": {},
   "source": [
    "# Challenge 1 - Exploring the Data\n",
    "\n",
    "In this challenge, we will examine all salaries of employees of the City of Chicago. We will start by loading the dataset and examining its contents"
   ]
  },
  {
   "cell_type": "code",
   "execution_count": 6,
   "metadata": {},
   "outputs": [
    {
     "data": {
      "text/html": [
       "<div>\n",
       "<style scoped>\n",
       "    .dataframe tbody tr th:only-of-type {\n",
       "        vertical-align: middle;\n",
       "    }\n",
       "\n",
       "    .dataframe tbody tr th {\n",
       "        vertical-align: top;\n",
       "    }\n",
       "\n",
       "    .dataframe thead th {\n",
       "        text-align: right;\n",
       "    }\n",
       "</style>\n",
       "<table border=\"1\" class=\"dataframe\">\n",
       "  <thead>\n",
       "    <tr style=\"text-align: right;\">\n",
       "      <th></th>\n",
       "      <th>Name</th>\n",
       "      <th>Job Titles</th>\n",
       "      <th>Department</th>\n",
       "      <th>Full or Part-Time</th>\n",
       "      <th>Salary or Hourly</th>\n",
       "      <th>Typical Hours</th>\n",
       "      <th>Annual Salary</th>\n",
       "      <th>Hourly Rate</th>\n",
       "    </tr>\n",
       "  </thead>\n",
       "  <tbody>\n",
       "    <tr>\n",
       "      <th>0</th>\n",
       "      <td>AARON,  JEFFERY M</td>\n",
       "      <td>SERGEANT</td>\n",
       "      <td>POLICE</td>\n",
       "      <td>F</td>\n",
       "      <td>Salary</td>\n",
       "      <td>NaN</td>\n",
       "      <td>101442.0</td>\n",
       "      <td>NaN</td>\n",
       "    </tr>\n",
       "    <tr>\n",
       "      <th>1</th>\n",
       "      <td>AARON,  KARINA</td>\n",
       "      <td>POLICE OFFICER (ASSIGNED AS DETECTIVE)</td>\n",
       "      <td>POLICE</td>\n",
       "      <td>F</td>\n",
       "      <td>Salary</td>\n",
       "      <td>NaN</td>\n",
       "      <td>94122.0</td>\n",
       "      <td>NaN</td>\n",
       "    </tr>\n",
       "    <tr>\n",
       "      <th>2</th>\n",
       "      <td>AARON,  KIMBERLEI R</td>\n",
       "      <td>CHIEF CONTRACT EXPEDITER</td>\n",
       "      <td>GENERAL SERVICES</td>\n",
       "      <td>F</td>\n",
       "      <td>Salary</td>\n",
       "      <td>NaN</td>\n",
       "      <td>101592.0</td>\n",
       "      <td>NaN</td>\n",
       "    </tr>\n",
       "    <tr>\n",
       "      <th>3</th>\n",
       "      <td>ABAD JR,  VICENTE M</td>\n",
       "      <td>CIVIL ENGINEER IV</td>\n",
       "      <td>WATER MGMNT</td>\n",
       "      <td>F</td>\n",
       "      <td>Salary</td>\n",
       "      <td>NaN</td>\n",
       "      <td>110064.0</td>\n",
       "      <td>NaN</td>\n",
       "    </tr>\n",
       "    <tr>\n",
       "      <th>4</th>\n",
       "      <td>ABASCAL,  REECE E</td>\n",
       "      <td>TRAFFIC CONTROL AIDE-HOURLY</td>\n",
       "      <td>OEMC</td>\n",
       "      <td>P</td>\n",
       "      <td>Hourly</td>\n",
       "      <td>20.0</td>\n",
       "      <td>NaN</td>\n",
       "      <td>19.86</td>\n",
       "    </tr>\n",
       "  </tbody>\n",
       "</table>\n",
       "</div>"
      ],
      "text/plain": [
       "                  Name                              Job Titles  \\\n",
       "0    AARON,  JEFFERY M                                SERGEANT   \n",
       "1      AARON,  KARINA   POLICE OFFICER (ASSIGNED AS DETECTIVE)   \n",
       "2  AARON,  KIMBERLEI R                CHIEF CONTRACT EXPEDITER   \n",
       "3  ABAD JR,  VICENTE M                       CIVIL ENGINEER IV   \n",
       "4    ABASCAL,  REECE E             TRAFFIC CONTROL AIDE-HOURLY   \n",
       "\n",
       "         Department Full or Part-Time Salary or Hourly  Typical Hours  \\\n",
       "0            POLICE                 F           Salary            NaN   \n",
       "1            POLICE                 F           Salary            NaN   \n",
       "2  GENERAL SERVICES                 F           Salary            NaN   \n",
       "3       WATER MGMNT                 F           Salary            NaN   \n",
       "4              OEMC                 P           Hourly           20.0   \n",
       "\n",
       "   Annual Salary  Hourly Rate  \n",
       "0       101442.0          NaN  \n",
       "1        94122.0          NaN  \n",
       "2       101592.0          NaN  \n",
       "3       110064.0          NaN  \n",
       "4            NaN        19.86  "
      ]
     },
     "execution_count": 6,
     "metadata": {},
     "output_type": "execute_result"
    }
   ],
   "source": [
    "# Run this code:\n",
    "salaries = pd.read_csv('../data/Current_Employee_Names__Salaries__and_Position_Titles.csv')\n",
    "\n",
    "# Your code here:\n",
    "salaries.head()\n"
   ]
  },
  {
   "cell_type": "markdown",
   "metadata": {},
   "source": [
    "Examine the `salaries` dataset using the `head` function below."
   ]
  },
  {
   "cell_type": "code",
   "execution_count": 7,
   "metadata": {},
   "outputs": [
    {
     "name": "stdout",
     "output_type": "stream",
     "text": [
      "95% confidence interval for the hourly wage: $41.60 to $41.85\n",
      "$30/hr is NOT within the 95% confidence interval.\n"
     ]
    }
   ],
   "source": [
    "# Your code here\n",
    "import numpy as np\n",
    "from scipy import stats\n",
    "\n",
    "# Convert annual salary to hourly wage\n",
    "# This creates a new column called \"Hourly Wage\".\n",
    "# We assume a full-time worker works 2080 hours per year (40 hours/week × 52 weeks).\n",
    "# We divide the annual salary by 2080 to convert it into an hourly wage.\n",
    "salaries['Hourly Wage'] = salaries['Annual Salary'] / 2080\n",
    "\n",
    "# Remove any missing values\n",
    "# dropna() removes any NaN (missing) values.\n",
    "# This ensures we only use clean, valid numbers in our analysis.\n",
    "hourly_wages = salaries['Hourly Wage'].dropna()\n",
    "\n",
    "# Calculate sample mean (average hourly wage)\n",
    "#This computes the mean (average) hourly wage from the data.\n",
    "mean = np.mean(hourly_wages)\n",
    "\n",
    "# Calculate standard deviation\n",
    "# This calculates the sample standard deviation.\n",
    "# We use ddof=1 to apply Bessel’s correction, which is standard when working with a sample (not population).\n",
    "std = np.std(hourly_wages, ddof=1)\n",
    "\n",
    "# Sample size\n",
    "# This gets the number of data points (workers) in our dataset.\n",
    "n = len(hourly_wages)\n",
    "\n",
    "# Standard error of the mean\n",
    "# The standard error tells us how much the sample mean is expected to vary from the true population mean.\n",
    "# It’s calculated as: SE = Standard Deviation / √n\n",
    "se = std / np.sqrt(n)\n",
    "\n",
    "# Compute the 95% confidence interval\n",
    "# stats.t.interval(...) calculates the confidence interval using the t-distribution.\n",
    "# We pass:\n",
    "# confidence = 0.95 (for a 95% interval)\n",
    "# df = n - 1 (degrees of freedom)\n",
    "# loc = mean (center of the distribution)\n",
    "# scale = se (spread of the distribution)\n",
    "confidence = 0.95\n",
    "interval = stats.t.interval(confidence, df=n-1, loc=mean, scale=se)\n",
    "\n",
    "# This prints the result with 2 decimal points.\n",
    "# interval[0] is the lower bound, interval[1] is the upper bound.\n",
    "print(f\"95% confidence interval for the hourly wage: ${interval[0]:.2f} to ${interval[1]:.2f}\")\n",
    "\n",
    "\n",
    "# This checks whether $30/hr is within the confidence interval we just calculated.\n",
    "# It helps answer the question: \"Is $30/hr a reasonable estimate of the average hourly wage?\"\n",
    "if 30 >= interval[0] and 30 <= interval[1]:\n",
    "    print(\"$30/hr is within the 95% confidence interval.\")\n",
    "else:\n",
    "    print(\"$30/hr is NOT within the 95% confidence interval.\")"
   ]
  },
  {
   "cell_type": "markdown",
   "metadata": {},
   "source": [
    "# Challenge 2\n",
    "This is a placeholder to make the AI corrector be able to find the correct exercise for feedback"
   ]
  },
  {
   "cell_type": "markdown",
   "metadata": {},
   "source": [
    "# Challenge 3 - Constructing Confidence Intervals\n",
    "\n",
    "We will test whether the hourly wage of all hourly workers is significantly different from $30/hr.\n",
    "\n",
    "In the cell below, we will construct a 95% confidence interval for the mean hourly wage of all hourly workers. Is $30/hr within that interval?\n",
    "\n",
    "The confidence interval is computed in SciPy using the `t.interval` function. You can read more about this function [here](https://docs.scipy.org/doc/scipy-0.14.0/reference/generated/scipy.stats.t.html).\n",
    "\n",
    "To compute the confidence interval of the hourly wage, use the 0.95 for the confidence level, number of rows - 1 for degrees of freedom, the mean of the sample for the location parameter and the standard error for the scale. The standard error can be computed using [this](https://docs.scipy.org/doc/scipy/reference/generated/scipy.stats.sem.html) function in SciPy."
   ]
  },
  {
   "cell_type": "code",
   "execution_count": 9,
   "metadata": {},
   "outputs": [
    {
     "name": "stdout",
     "output_type": "stream",
     "text": [
      "95% confidence interval for the sample of 100: $37.78 to $41.38\n",
      "$30/hr is NOT within the 95% confidence interval of the sample.\n"
     ]
    }
   ],
   "source": [
    "sample_100 = hourly_wages.sample(100, random_state=42)\n",
    "\n",
    "mean_100 = np.mean(sample_100)\n",
    "std_100 = np.std(sample_100, ddof=1)\n",
    "n_100 = len(sample_100)\n",
    "se_100 = std_100 / np.sqrt(n_100)\n",
    "\n",
    "interval_100 = stats.t.interval(confidence, df=n_100-1, loc=mean_100, scale=se_100)\n",
    "\n",
    "print(f\"95% confidence interval for the sample of 100: ${interval_100[0]:.2f} to ${interval_100[1]:.2f}\")\n",
    "\n",
    "if 30 >= interval_100[0] and 30 <= interval_100[1]:\n",
    "    print(\"$30/hr is within the 95% confidence interval of the sample.\")\n",
    "else:\n",
    "    print(\"$30/hr is NOT within the 95% confidence interval of the sample.\")"
   ]
  },
  {
   "cell_type": "markdown",
   "metadata": {},
   "source": [
    "This is fine if we have thousands of worker data. But what if we have only 100 workers data?\n",
    "\n",
    "Sample 100 workers and re-construct the 95% confidence interval. Is the interval wider of narrower? And why?\n",
    "Do you still encapsulate the $30/hr mark in this case?"
   ]
  },
  {
   "cell_type": "code",
   "execution_count": 10,
   "metadata": {},
   "outputs": [],
   "source": [
    "### Reflection\n",
    "# The confidence interval based on a sample of 100 workers is **wider** than the interval calculated using the full dataset. This happens because the sample size is smaller, which increases the standard error and uncertainty in estimating the true mean.\n",
    "# As a result, confidence intervals from small samples tend to be less precise and have wider ranges. Whether $30/hr is within this interval depends on the random sample taken — sometimes it will be, sometimes not. In our case, we can see whether $30/hr falls within this interval by checking the printed result above."
   ]
  }
 ],
 "metadata": {
  "kernelspec": {
   "display_name": "base",
   "language": "python",
   "name": "python3"
  },
  "language_info": {
   "codemirror_mode": {
    "name": "ipython",
    "version": 3
   },
   "file_extension": ".py",
   "mimetype": "text/x-python",
   "name": "python",
   "nbconvert_exporter": "python",
   "pygments_lexer": "ipython3",
   "version": "3.12.7"
  }
 },
 "nbformat": 4,
 "nbformat_minor": 4
}
